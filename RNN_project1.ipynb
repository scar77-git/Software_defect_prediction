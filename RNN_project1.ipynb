{
  "nbformat": 4,
  "nbformat_minor": 0,
  "metadata": {
    "kernelspec": {
      "display_name": "Python 3",
      "language": "python",
      "name": "python3"
    },
    "language_info": {
      "codemirror_mode": {
        "name": "ipython",
        "version": 3
      },
      "file_extension": ".py",
      "mimetype": "text/x-python",
      "name": "python",
      "nbconvert_exporter": "python",
      "pygments_lexer": "ipython3",
      "version": "3.7.5"
    },
    "colab": {
      "name": "RNN_project1.ipynb",
      "provenance": [],
      "collapsed_sections": []
    }
  },
  "cells": [
    {
      "cell_type": "markdown",
      "metadata": {
        "id": "4NMD13Gh9Kzd"
      },
      "source": [
        "Software Defect Prediction using RNN"
      ]
    },
    {
      "cell_type": "code",
      "metadata": {
        "id": "r0yJRlpAOxlv"
      },
      "source": [
        "import pandas as pd\n",
        "import numpy as np"
      ],
      "execution_count": null,
      "outputs": []
    },
    {
      "cell_type": "code",
      "metadata": {
        "colab": {
          "resources": {
            "http://localhost:8080/nbextensions/google.colab/files.js": {
              "data": "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",
              "ok": true,
              "headers": [
                [
                  "content-type",
                  "application/javascript"
                ]
              ],
              "status": 200,
              "status_text": ""
            }
          },
          "base_uri": "https://localhost:8080/",
          "height": 74
        },
        "id": "fwKTaqJCVBdX",
        "outputId": "f41c5eec-2b44-4b0a-8240-9a234a601102"
      },
      "source": [
        "from google.colab import files\n",
        "up=files.upload()"
      ],
      "execution_count": null,
      "outputs": [
        {
          "output_type": "display_data",
          "data": {
            "text/html": [
              "\n",
              "     <input type=\"file\" id=\"files-f78dd393-6fe3-49c2-ab43-8eb759e8a408\" name=\"files[]\" multiple disabled\n",
              "        style=\"border:none\" />\n",
              "     <output id=\"result-f78dd393-6fe3-49c2-ab43-8eb759e8a408\">\n",
              "      Upload widget is only available when the cell has been executed in the\n",
              "      current browser session. Please rerun this cell to enable.\n",
              "      </output>\n",
              "      <script src=\"/nbextensions/google.colab/files.js\"></script> "
            ],
            "text/plain": [
              "<IPython.core.display.HTML object>"
            ]
          },
          "metadata": {}
        },
        {
          "output_type": "stream",
          "name": "stdout",
          "text": [
            "Saving jm1_csv.csv to jm1_csv.csv\n"
          ]
        }
      ]
    },
    {
      "cell_type": "code",
      "metadata": {
        "id": "h9jYEMgXkhnA"
      },
      "source": [
        "df = pd.read_csv('jm1_csv.csv')"
      ],
      "execution_count": null,
      "outputs": []
    },
    {
      "cell_type": "code",
      "metadata": {
        "colab": {
          "base_uri": "https://localhost:8080/"
        },
        "id": "JuxuycmdOxlw",
        "outputId": "344e7ff0-fd6e-40fa-d522-72ba8adcb910"
      },
      "source": [
        "df.info()"
      ],
      "execution_count": null,
      "outputs": [
        {
          "output_type": "stream",
          "name": "stdout",
          "text": [
            "<class 'pandas.core.frame.DataFrame'>\n",
            "RangeIndex: 10885 entries, 0 to 10884\n",
            "Data columns (total 22 columns):\n",
            " #   Column             Non-Null Count  Dtype  \n",
            "---  ------             --------------  -----  \n",
            " 0   loc                10885 non-null  float64\n",
            " 1   v(g)               10885 non-null  float64\n",
            " 2   ev(g)              10885 non-null  float64\n",
            " 3   iv(g)              10885 non-null  float64\n",
            " 4   n                  10885 non-null  float64\n",
            " 5   v                  10885 non-null  float64\n",
            " 6   l                  10885 non-null  float64\n",
            " 7   d                  10885 non-null  float64\n",
            " 8   i                  10885 non-null  float64\n",
            " 9   e                  10885 non-null  float64\n",
            " 10  b                  10885 non-null  float64\n",
            " 11  t                  10885 non-null  float64\n",
            " 12  lOCode             10885 non-null  int64  \n",
            " 13  lOComment          10885 non-null  int64  \n",
            " 14  lOBlank            10885 non-null  int64  \n",
            " 15  locCodeAndComment  10885 non-null  int64  \n",
            " 16  uniq_Op            10880 non-null  float64\n",
            " 17  uniq_Opnd          10880 non-null  float64\n",
            " 18  total_Op           10880 non-null  float64\n",
            " 19  total_Opnd         10880 non-null  float64\n",
            " 20  branchCount        10880 non-null  float64\n",
            " 21  defects            10885 non-null  bool   \n",
            "dtypes: bool(1), float64(17), int64(4)\n",
            "memory usage: 1.8 MB\n"
          ]
        }
      ]
    },
    {
      "cell_type": "code",
      "metadata": {
        "colab": {
          "base_uri": "https://localhost:8080/",
          "height": 226
        },
        "id": "4U1bM4jzWhJd",
        "outputId": "0eb8f53e-7304-42cb-b8bb-02d69b10b113"
      },
      "source": [
        "df.head()"
      ],
      "execution_count": null,
      "outputs": [
        {
          "output_type": "execute_result",
          "data": {
            "text/html": [
              "<div>\n",
              "<style scoped>\n",
              "    .dataframe tbody tr th:only-of-type {\n",
              "        vertical-align: middle;\n",
              "    }\n",
              "\n",
              "    .dataframe tbody tr th {\n",
              "        vertical-align: top;\n",
              "    }\n",
              "\n",
              "    .dataframe thead th {\n",
              "        text-align: right;\n",
              "    }\n",
              "</style>\n",
              "<table border=\"1\" class=\"dataframe\">\n",
              "  <thead>\n",
              "    <tr style=\"text-align: right;\">\n",
              "      <th></th>\n",
              "      <th>LOC_BLANK</th>\n",
              "      <th>BRANCH_COUNT</th>\n",
              "      <th>CALL_PAIRS</th>\n",
              "      <th>LOC_CODE_AND_COMMENT</th>\n",
              "      <th>LOC_COMMENTS</th>\n",
              "      <th>CONDITION_COUNT</th>\n",
              "      <th>CYCLOMATIC_COMPLEXITY</th>\n",
              "      <th>CYCLOMATIC_DENSITY</th>\n",
              "      <th>DECISION_COUNT</th>\n",
              "      <th>DESIGN_COMPLEXITY</th>\n",
              "      <th>DESIGN_DENSITY</th>\n",
              "      <th>EDGE_COUNT</th>\n",
              "      <th>ESSENTIAL_COMPLEXITY</th>\n",
              "      <th>ESSENTIAL_DENSITY</th>\n",
              "      <th>LOC_EXECUTABLE</th>\n",
              "      <th>PARAMETER_COUNT</th>\n",
              "      <th>GLOBAL_DATA_COMPLEXITY</th>\n",
              "      <th>GLOBAL_DATA_DENSITY</th>\n",
              "      <th>HALSTEAD_CONTENT</th>\n",
              "      <th>HALSTEAD_DIFFICULTY</th>\n",
              "      <th>HALSTEAD_EFFORT</th>\n",
              "      <th>HALSTEAD_ERROR_EST</th>\n",
              "      <th>HALSTEAD_LENGTH</th>\n",
              "      <th>HALSTEAD_LEVEL</th>\n",
              "      <th>HALSTEAD_PROG_TIME</th>\n",
              "      <th>HALSTEAD_VOLUME</th>\n",
              "      <th>MAINTENANCE_SEVERITY</th>\n",
              "      <th>MODIFIED_CONDITION_COUNT</th>\n",
              "      <th>MULTIPLE_CONDITION_COUNT</th>\n",
              "      <th>NODE_COUNT</th>\n",
              "      <th>NORMALIZED_CYLOMATIC_COMPLEXITY</th>\n",
              "      <th>NUM_OPERANDS</th>\n",
              "      <th>NUM_OPERATORS</th>\n",
              "      <th>NUM_UNIQUE_OPERANDS</th>\n",
              "      <th>NUM_UNIQUE_OPERATORS</th>\n",
              "      <th>NUMBER_OF_LINES</th>\n",
              "      <th>PERCENT_COMMENTS</th>\n",
              "      <th>LOC_TOTAL</th>\n",
              "      <th>c</th>\n",
              "    </tr>\n",
              "  </thead>\n",
              "  <tbody>\n",
              "    <tr>\n",
              "      <th>0</th>\n",
              "      <td>0</td>\n",
              "      <td>1</td>\n",
              "      <td>0</td>\n",
              "      <td>0</td>\n",
              "      <td>0</td>\n",
              "      <td>0</td>\n",
              "      <td>1</td>\n",
              "      <td>1.00</td>\n",
              "      <td>0</td>\n",
              "      <td>1</td>\n",
              "      <td>1</td>\n",
              "      <td>1</td>\n",
              "      <td>1</td>\n",
              "      <td>0</td>\n",
              "      <td>0</td>\n",
              "      <td>0</td>\n",
              "      <td>1</td>\n",
              "      <td>1</td>\n",
              "      <td>7.74</td>\n",
              "      <td>1.50</td>\n",
              "      <td>17.41</td>\n",
              "      <td>0.00</td>\n",
              "      <td>5</td>\n",
              "      <td>0.67</td>\n",
              "      <td>0.97</td>\n",
              "      <td>11.61</td>\n",
              "      <td>1</td>\n",
              "      <td>0</td>\n",
              "      <td>0</td>\n",
              "      <td>2</td>\n",
              "      <td>0.50</td>\n",
              "      <td>2</td>\n",
              "      <td>3</td>\n",
              "      <td>2</td>\n",
              "      <td>3</td>\n",
              "      <td>2</td>\n",
              "      <td>0.00</td>\n",
              "      <td>0</td>\n",
              "      <td>False</td>\n",
              "    </tr>\n",
              "    <tr>\n",
              "      <th>1</th>\n",
              "      <td>0</td>\n",
              "      <td>1</td>\n",
              "      <td>0</td>\n",
              "      <td>0</td>\n",
              "      <td>0</td>\n",
              "      <td>0</td>\n",
              "      <td>1</td>\n",
              "      <td>1.00</td>\n",
              "      <td>0</td>\n",
              "      <td>1</td>\n",
              "      <td>1</td>\n",
              "      <td>1</td>\n",
              "      <td>1</td>\n",
              "      <td>0</td>\n",
              "      <td>0</td>\n",
              "      <td>0</td>\n",
              "      <td>0</td>\n",
              "      <td>0</td>\n",
              "      <td>7.74</td>\n",
              "      <td>1.50</td>\n",
              "      <td>17.41</td>\n",
              "      <td>0.00</td>\n",
              "      <td>5</td>\n",
              "      <td>0.67</td>\n",
              "      <td>0.97</td>\n",
              "      <td>11.61</td>\n",
              "      <td>1</td>\n",
              "      <td>0</td>\n",
              "      <td>0</td>\n",
              "      <td>2</td>\n",
              "      <td>1.00</td>\n",
              "      <td>2</td>\n",
              "      <td>3</td>\n",
              "      <td>2</td>\n",
              "      <td>3</td>\n",
              "      <td>1</td>\n",
              "      <td>0.00</td>\n",
              "      <td>0</td>\n",
              "      <td>False</td>\n",
              "    </tr>\n",
              "    <tr>\n",
              "      <th>2</th>\n",
              "      <td>0</td>\n",
              "      <td>1</td>\n",
              "      <td>1</td>\n",
              "      <td>0</td>\n",
              "      <td>0</td>\n",
              "      <td>0</td>\n",
              "      <td>1</td>\n",
              "      <td>1.00</td>\n",
              "      <td>0</td>\n",
              "      <td>1</td>\n",
              "      <td>1</td>\n",
              "      <td>2</td>\n",
              "      <td>1</td>\n",
              "      <td>0</td>\n",
              "      <td>0</td>\n",
              "      <td>0</td>\n",
              "      <td>0</td>\n",
              "      <td>0</td>\n",
              "      <td>9.51</td>\n",
              "      <td>3.00</td>\n",
              "      <td>85.59</td>\n",
              "      <td>0.01</td>\n",
              "      <td>9</td>\n",
              "      <td>0.33</td>\n",
              "      <td>4.75</td>\n",
              "      <td>28.53</td>\n",
              "      <td>1</td>\n",
              "      <td>0</td>\n",
              "      <td>0</td>\n",
              "      <td>3</td>\n",
              "      <td>0.50</td>\n",
              "      <td>3</td>\n",
              "      <td>6</td>\n",
              "      <td>3</td>\n",
              "      <td>6</td>\n",
              "      <td>2</td>\n",
              "      <td>0.00</td>\n",
              "      <td>0</td>\n",
              "      <td>False</td>\n",
              "    </tr>\n",
              "    <tr>\n",
              "      <th>3</th>\n",
              "      <td>8</td>\n",
              "      <td>17</td>\n",
              "      <td>11</td>\n",
              "      <td>32</td>\n",
              "      <td>3</td>\n",
              "      <td>12</td>\n",
              "      <td>13</td>\n",
              "      <td>0.16</td>\n",
              "      <td>6</td>\n",
              "      <td>10</td>\n",
              "      <td>0</td>\n",
              "      <td>43</td>\n",
              "      <td>4</td>\n",
              "      <td>0</td>\n",
              "      <td>48</td>\n",
              "      <td>0</td>\n",
              "      <td>10</td>\n",
              "      <td>0</td>\n",
              "      <td>49.82</td>\n",
              "      <td>25.34</td>\n",
              "      <td>31983.69</td>\n",
              "      <td>0.42</td>\n",
              "      <td>212</td>\n",
              "      <td>0.04</td>\n",
              "      <td>1776.87</td>\n",
              "      <td>1262.29</td>\n",
              "      <td>0</td>\n",
              "      <td>3</td>\n",
              "      <td>6</td>\n",
              "      <td>32</td>\n",
              "      <td>0.14</td>\n",
              "      <td>75</td>\n",
              "      <td>137</td>\n",
              "      <td>37</td>\n",
              "      <td>25</td>\n",
              "      <td>93</td>\n",
              "      <td>42.17</td>\n",
              "      <td>80</td>\n",
              "      <td>False</td>\n",
              "    </tr>\n",
              "    <tr>\n",
              "      <th>4</th>\n",
              "      <td>4</td>\n",
              "      <td>7</td>\n",
              "      <td>1</td>\n",
              "      <td>1</td>\n",
              "      <td>8</td>\n",
              "      <td>12</td>\n",
              "      <td>4</td>\n",
              "      <td>0.17</td>\n",
              "      <td>6</td>\n",
              "      <td>1</td>\n",
              "      <td>0</td>\n",
              "      <td>20</td>\n",
              "      <td>1</td>\n",
              "      <td>0</td>\n",
              "      <td>23</td>\n",
              "      <td>0</td>\n",
              "      <td>4</td>\n",
              "      <td>1</td>\n",
              "      <td>25.56</td>\n",
              "      <td>20.00</td>\n",
              "      <td>10223.25</td>\n",
              "      <td>0.17</td>\n",
              "      <td>113</td>\n",
              "      <td>0.05</td>\n",
              "      <td>567.96</td>\n",
              "      <td>511.16</td>\n",
              "      <td>0</td>\n",
              "      <td>3</td>\n",
              "      <td>6</td>\n",
              "      <td>18</td>\n",
              "      <td>0.11</td>\n",
              "      <td>52</td>\n",
              "      <td>61</td>\n",
              "      <td>13</td>\n",
              "      <td>10</td>\n",
              "      <td>38</td>\n",
              "      <td>28.13</td>\n",
              "      <td>24</td>\n",
              "      <td>False</td>\n",
              "    </tr>\n",
              "  </tbody>\n",
              "</table>\n",
              "</div>"
            ],
            "text/plain": [
              "   LOC_BLANK  BRANCH_COUNT  CALL_PAIRS  ...  PERCENT_COMMENTS  LOC_TOTAL      c\n",
              "0          0             1           0  ...              0.00          0  False\n",
              "1          0             1           0  ...              0.00          0  False\n",
              "2          0             1           1  ...              0.00          0  False\n",
              "3          8            17          11  ...             42.17         80  False\n",
              "4          4             7           1  ...             28.13         24  False\n",
              "\n",
              "[5 rows x 39 columns]"
            ]
          },
          "metadata": {},
          "execution_count": 57
        }
      ]
    },
    {
      "cell_type": "code",
      "metadata": {
        "colab": {
          "base_uri": "https://localhost:8080/",
          "height": 1000
        },
        "id": "Vpd-ISaXOxlx",
        "outputId": "781795e0-3932-4ec6-dad3-ad3128c6cf56"
      },
      "source": [
        "df.describe().transpose()"
      ],
      "execution_count": null,
      "outputs": [
        {
          "output_type": "execute_result",
          "data": {
            "text/html": [
              "<div>\n",
              "<style scoped>\n",
              "    .dataframe tbody tr th:only-of-type {\n",
              "        vertical-align: middle;\n",
              "    }\n",
              "\n",
              "    .dataframe tbody tr th {\n",
              "        vertical-align: top;\n",
              "    }\n",
              "\n",
              "    .dataframe thead th {\n",
              "        text-align: right;\n",
              "    }\n",
              "</style>\n",
              "<table border=\"1\" class=\"dataframe\">\n",
              "  <thead>\n",
              "    <tr style=\"text-align: right;\">\n",
              "      <th></th>\n",
              "      <th>count</th>\n",
              "      <th>mean</th>\n",
              "      <th>std</th>\n",
              "      <th>min</th>\n",
              "      <th>25%</th>\n",
              "      <th>50%</th>\n",
              "      <th>75%</th>\n",
              "      <th>max</th>\n",
              "    </tr>\n",
              "  </thead>\n",
              "  <tbody>\n",
              "    <tr>\n",
              "      <th>LOC_BLANK</th>\n",
              "      <td>9466.0</td>\n",
              "      <td>1.556835</td>\n",
              "      <td>4.577765</td>\n",
              "      <td>0.0</td>\n",
              "      <td>0.00</td>\n",
              "      <td>0.00</td>\n",
              "      <td>1.0000</td>\n",
              "      <td>87.00</td>\n",
              "    </tr>\n",
              "    <tr>\n",
              "      <th>BRANCH_COUNT</th>\n",
              "      <td>9466.0</td>\n",
              "      <td>2.954046</td>\n",
              "      <td>7.763753</td>\n",
              "      <td>1.0</td>\n",
              "      <td>1.00</td>\n",
              "      <td>1.00</td>\n",
              "      <td>3.0000</td>\n",
              "      <td>351.00</td>\n",
              "    </tr>\n",
              "    <tr>\n",
              "      <th>CALL_PAIRS</th>\n",
              "      <td>9466.0</td>\n",
              "      <td>1.287133</td>\n",
              "      <td>2.590355</td>\n",
              "      <td>0.0</td>\n",
              "      <td>0.00</td>\n",
              "      <td>0.00</td>\n",
              "      <td>1.0000</td>\n",
              "      <td>72.00</td>\n",
              "    </tr>\n",
              "    <tr>\n",
              "      <th>LOC_CODE_AND_COMMENT</th>\n",
              "      <td>9466.0</td>\n",
              "      <td>0.784281</td>\n",
              "      <td>3.650174</td>\n",
              "      <td>0.0</td>\n",
              "      <td>0.00</td>\n",
              "      <td>0.00</td>\n",
              "      <td>0.0000</td>\n",
              "      <td>98.00</td>\n",
              "    </tr>\n",
              "    <tr>\n",
              "      <th>LOC_COMMENTS</th>\n",
              "      <td>9466.0</td>\n",
              "      <td>1.612719</td>\n",
              "      <td>7.256949</td>\n",
              "      <td>0.0</td>\n",
              "      <td>0.00</td>\n",
              "      <td>0.00</td>\n",
              "      <td>0.0000</td>\n",
              "      <td>117.00</td>\n",
              "    </tr>\n",
              "    <tr>\n",
              "      <th>CONDITION_COUNT</th>\n",
              "      <td>9466.0</td>\n",
              "      <td>3.315233</td>\n",
              "      <td>12.886130</td>\n",
              "      <td>0.0</td>\n",
              "      <td>0.00</td>\n",
              "      <td>0.00</td>\n",
              "      <td>4.0000</td>\n",
              "      <td>630.00</td>\n",
              "    </tr>\n",
              "    <tr>\n",
              "      <th>CYCLOMATIC_COMPLEXITY</th>\n",
              "      <td>9466.0</td>\n",
              "      <td>1.924150</td>\n",
              "      <td>3.997827</td>\n",
              "      <td>1.0</td>\n",
              "      <td>1.00</td>\n",
              "      <td>1.00</td>\n",
              "      <td>2.0000</td>\n",
              "      <td>192.00</td>\n",
              "    </tr>\n",
              "    <tr>\n",
              "      <th>CYCLOMATIC_DENSITY</th>\n",
              "      <td>9466.0</td>\n",
              "      <td>0.670175</td>\n",
              "      <td>0.364584</td>\n",
              "      <td>0.0</td>\n",
              "      <td>0.29</td>\n",
              "      <td>1.00</td>\n",
              "      <td>1.0000</td>\n",
              "      <td>1.00</td>\n",
              "    </tr>\n",
              "    <tr>\n",
              "      <th>DECISION_COUNT</th>\n",
              "      <td>9466.0</td>\n",
              "      <td>1.571308</td>\n",
              "      <td>6.229086</td>\n",
              "      <td>0.0</td>\n",
              "      <td>0.00</td>\n",
              "      <td>0.00</td>\n",
              "      <td>2.0000</td>\n",
              "      <td>312.00</td>\n",
              "    </tr>\n",
              "    <tr>\n",
              "      <th>DESIGN_COMPLEXITY</th>\n",
              "      <td>9466.0</td>\n",
              "      <td>1.588633</td>\n",
              "      <td>3.354746</td>\n",
              "      <td>1.0</td>\n",
              "      <td>1.00</td>\n",
              "      <td>1.00</td>\n",
              "      <td>1.0000</td>\n",
              "      <td>186.00</td>\n",
              "    </tr>\n",
              "    <tr>\n",
              "      <th>DESIGN_DENSITY</th>\n",
              "      <td>9466.0</td>\n",
              "      <td>0.851363</td>\n",
              "      <td>0.355749</td>\n",
              "      <td>0.0</td>\n",
              "      <td>1.00</td>\n",
              "      <td>1.00</td>\n",
              "      <td>1.0000</td>\n",
              "      <td>1.00</td>\n",
              "    </tr>\n",
              "    <tr>\n",
              "      <th>EDGE_COUNT</th>\n",
              "      <td>9466.0</td>\n",
              "      <td>6.759772</td>\n",
              "      <td>20.342466</td>\n",
              "      <td>1.0</td>\n",
              "      <td>1.00</td>\n",
              "      <td>2.00</td>\n",
              "      <td>6.0000</td>\n",
              "      <td>929.00</td>\n",
              "    </tr>\n",
              "    <tr>\n",
              "      <th>ESSENTIAL_COMPLEXITY</th>\n",
              "      <td>9466.0</td>\n",
              "      <td>1.238855</td>\n",
              "      <td>1.308873</td>\n",
              "      <td>1.0</td>\n",
              "      <td>1.00</td>\n",
              "      <td>1.00</td>\n",
              "      <td>1.0000</td>\n",
              "      <td>22.00</td>\n",
              "    </tr>\n",
              "    <tr>\n",
              "      <th>ESSENTIAL_DENSITY</th>\n",
              "      <td>9466.0</td>\n",
              "      <td>0.012360</td>\n",
              "      <td>0.110492</td>\n",
              "      <td>0.0</td>\n",
              "      <td>0.00</td>\n",
              "      <td>0.00</td>\n",
              "      <td>0.0000</td>\n",
              "      <td>1.00</td>\n",
              "    </tr>\n",
              "    <tr>\n",
              "      <th>LOC_EXECUTABLE</th>\n",
              "      <td>9466.0</td>\n",
              "      <td>6.249630</td>\n",
              "      <td>16.863634</td>\n",
              "      <td>0.0</td>\n",
              "      <td>0.00</td>\n",
              "      <td>0.00</td>\n",
              "      <td>6.0000</td>\n",
              "      <td>578.00</td>\n",
              "    </tr>\n",
              "    <tr>\n",
              "      <th>PARAMETER_COUNT</th>\n",
              "      <td>9466.0</td>\n",
              "      <td>0.133636</td>\n",
              "      <td>0.596871</td>\n",
              "      <td>0.0</td>\n",
              "      <td>0.00</td>\n",
              "      <td>0.00</td>\n",
              "      <td>0.0000</td>\n",
              "      <td>10.00</td>\n",
              "    </tr>\n",
              "    <tr>\n",
              "      <th>GLOBAL_DATA_COMPLEXITY</th>\n",
              "      <td>9466.0</td>\n",
              "      <td>0.903761</td>\n",
              "      <td>2.514098</td>\n",
              "      <td>0.0</td>\n",
              "      <td>0.00</td>\n",
              "      <td>1.00</td>\n",
              "      <td>1.0000</td>\n",
              "      <td>192.00</td>\n",
              "    </tr>\n",
              "    <tr>\n",
              "      <th>GLOBAL_DATA_DENSITY</th>\n",
              "      <td>9466.0</td>\n",
              "      <td>0.448236</td>\n",
              "      <td>0.497340</td>\n",
              "      <td>0.0</td>\n",
              "      <td>0.00</td>\n",
              "      <td>0.00</td>\n",
              "      <td>1.0000</td>\n",
              "      <td>1.00</td>\n",
              "    </tr>\n",
              "    <tr>\n",
              "      <th>HALSTEAD_CONTENT</th>\n",
              "      <td>9466.0</td>\n",
              "      <td>14.242067</td>\n",
              "      <td>18.026516</td>\n",
              "      <td>0.0</td>\n",
              "      <td>5.80</td>\n",
              "      <td>7.75</td>\n",
              "      <td>15.3350</td>\n",
              "      <td>253.30</td>\n",
              "    </tr>\n",
              "    <tr>\n",
              "      <th>HALSTEAD_DIFFICULTY</th>\n",
              "      <td>9466.0</td>\n",
              "      <td>6.269534</td>\n",
              "      <td>16.385380</td>\n",
              "      <td>0.0</td>\n",
              "      <td>1.50</td>\n",
              "      <td>2.00</td>\n",
              "      <td>6.3925</td>\n",
              "      <td>833.78</td>\n",
              "    </tr>\n",
              "    <tr>\n",
              "      <th>HALSTEAD_EFFORT</th>\n",
              "      <td>9466.0</td>\n",
              "      <td>12649.498647</td>\n",
              "      <td>456367.935269</td>\n",
              "      <td>0.0</td>\n",
              "      <td>17.41</td>\n",
              "      <td>49.13</td>\n",
              "      <td>504.9300</td>\n",
              "      <td>31159817.68</td>\n",
              "    </tr>\n",
              "    <tr>\n",
              "      <th>HALSTEAD_ERROR_EST</th>\n",
              "      <td>9466.0</td>\n",
              "      <td>0.058211</td>\n",
              "      <td>0.254273</td>\n",
              "      <td>0.0</td>\n",
              "      <td>0.00</td>\n",
              "      <td>0.01</td>\n",
              "      <td>0.0300</td>\n",
              "      <td>12.46</td>\n",
              "    </tr>\n",
              "    <tr>\n",
              "      <th>HALSTEAD_LENGTH</th>\n",
              "      <td>9466.0</td>\n",
              "      <td>34.563068</td>\n",
              "      <td>113.822260</td>\n",
              "      <td>0.0</td>\n",
              "      <td>5.00</td>\n",
              "      <td>7.00</td>\n",
              "      <td>23.0000</td>\n",
              "      <td>5227.00</td>\n",
              "    </tr>\n",
              "    <tr>\n",
              "      <th>HALSTEAD_LEVEL</th>\n",
              "      <td>9466.0</td>\n",
              "      <td>0.354511</td>\n",
              "      <td>0.253414</td>\n",
              "      <td>0.0</td>\n",
              "      <td>0.11</td>\n",
              "      <td>0.33</td>\n",
              "      <td>0.6700</td>\n",
              "      <td>2.00</td>\n",
              "    </tr>\n",
              "    <tr>\n",
              "      <th>HALSTEAD_PROG_TIME</th>\n",
              "      <td>9466.0</td>\n",
              "      <td>702.750345</td>\n",
              "      <td>25353.774298</td>\n",
              "      <td>0.0</td>\n",
              "      <td>0.97</td>\n",
              "      <td>2.73</td>\n",
              "      <td>28.0500</td>\n",
              "      <td>1731100.99</td>\n",
              "    </tr>\n",
              "    <tr>\n",
              "      <th>HALSTEAD_VOLUME</th>\n",
              "      <td>9466.0</td>\n",
              "      <td>175.062793</td>\n",
              "      <td>762.509983</td>\n",
              "      <td>0.0</td>\n",
              "      <td>11.61</td>\n",
              "      <td>19.65</td>\n",
              "      <td>89.8600</td>\n",
              "      <td>37371.73</td>\n",
              "    </tr>\n",
              "    <tr>\n",
              "      <th>MAINTENANCE_SEVERITY</th>\n",
              "      <td>9466.0</td>\n",
              "      <td>0.742024</td>\n",
              "      <td>0.437544</td>\n",
              "      <td>0.0</td>\n",
              "      <td>0.00</td>\n",
              "      <td>1.00</td>\n",
              "      <td>1.0000</td>\n",
              "      <td>1.00</td>\n",
              "    </tr>\n",
              "    <tr>\n",
              "      <th>MODIFIED_CONDITION_COUNT</th>\n",
              "      <td>9466.0</td>\n",
              "      <td>0.871963</td>\n",
              "      <td>3.342610</td>\n",
              "      <td>0.0</td>\n",
              "      <td>0.00</td>\n",
              "      <td>0.00</td>\n",
              "      <td>1.0000</td>\n",
              "      <td>159.00</td>\n",
              "    </tr>\n",
              "    <tr>\n",
              "      <th>MULTIPLE_CONDITION_COUNT</th>\n",
              "      <td>9466.0</td>\n",
              "      <td>1.658462</td>\n",
              "      <td>6.446323</td>\n",
              "      <td>0.0</td>\n",
              "      <td>0.00</td>\n",
              "      <td>0.00</td>\n",
              "      <td>2.0000</td>\n",
              "      <td>315.00</td>\n",
              "    </tr>\n",
              "    <tr>\n",
              "      <th>NODE_COUNT</th>\n",
              "      <td>9466.0</td>\n",
              "      <td>6.708325</td>\n",
              "      <td>16.112565</td>\n",
              "      <td>2.0</td>\n",
              "      <td>2.00</td>\n",
              "      <td>3.00</td>\n",
              "      <td>6.0000</td>\n",
              "      <td>739.00</td>\n",
              "    </tr>\n",
              "    <tr>\n",
              "      <th>NORMALIZED_CYLOMATIC_COMPLEXITY</th>\n",
              "      <td>9466.0</td>\n",
              "      <td>0.539018</td>\n",
              "      <td>0.421783</td>\n",
              "      <td>0.0</td>\n",
              "      <td>0.17</td>\n",
              "      <td>0.50</td>\n",
              "      <td>1.0000</td>\n",
              "      <td>2.00</td>\n",
              "    </tr>\n",
              "    <tr>\n",
              "      <th>NUM_OPERANDS</th>\n",
              "      <td>9466.0</td>\n",
              "      <td>13.780266</td>\n",
              "      <td>48.084559</td>\n",
              "      <td>0.0</td>\n",
              "      <td>1.00</td>\n",
              "      <td>2.00</td>\n",
              "      <td>10.0000</td>\n",
              "      <td>2279.00</td>\n",
              "    </tr>\n",
              "    <tr>\n",
              "      <th>NUM_OPERATORS</th>\n",
              "      <td>9466.0</td>\n",
              "      <td>20.782802</td>\n",
              "      <td>66.071508</td>\n",
              "      <td>0.0</td>\n",
              "      <td>3.00</td>\n",
              "      <td>5.00</td>\n",
              "      <td>14.0000</td>\n",
              "      <td>2948.00</td>\n",
              "    </tr>\n",
              "    <tr>\n",
              "      <th>NUM_UNIQUE_OPERANDS</th>\n",
              "      <td>9466.0</td>\n",
              "      <td>5.927530</td>\n",
              "      <td>10.143838</td>\n",
              "      <td>0.0</td>\n",
              "      <td>1.00</td>\n",
              "      <td>2.00</td>\n",
              "      <td>6.0000</td>\n",
              "      <td>197.00</td>\n",
              "    </tr>\n",
              "    <tr>\n",
              "      <th>NUM_UNIQUE_OPERATORS</th>\n",
              "      <td>9466.0</td>\n",
              "      <td>6.356011</td>\n",
              "      <td>5.495618</td>\n",
              "      <td>0.0</td>\n",
              "      <td>3.00</td>\n",
              "      <td>4.00</td>\n",
              "      <td>8.0000</td>\n",
              "      <td>100.00</td>\n",
              "    </tr>\n",
              "    <tr>\n",
              "      <th>NUMBER_OF_LINES</th>\n",
              "      <td>9466.0</td>\n",
              "      <td>12.223748</td>\n",
              "      <td>27.831073</td>\n",
              "      <td>1.0</td>\n",
              "      <td>1.00</td>\n",
              "      <td>2.00</td>\n",
              "      <td>11.0000</td>\n",
              "      <td>727.00</td>\n",
              "    </tr>\n",
              "    <tr>\n",
              "      <th>PERCENT_COMMENTS</th>\n",
              "      <td>9466.0</td>\n",
              "      <td>7.922276</td>\n",
              "      <td>17.426153</td>\n",
              "      <td>0.0</td>\n",
              "      <td>0.00</td>\n",
              "      <td>0.00</td>\n",
              "      <td>0.0000</td>\n",
              "      <td>95.76</td>\n",
              "    </tr>\n",
              "    <tr>\n",
              "      <th>LOC_TOTAL</th>\n",
              "      <td>9466.0</td>\n",
              "      <td>7.033911</td>\n",
              "      <td>18.751243</td>\n",
              "      <td>0.0</td>\n",
              "      <td>0.00</td>\n",
              "      <td>0.00</td>\n",
              "      <td>7.0000</td>\n",
              "      <td>639.00</td>\n",
              "    </tr>\n",
              "  </tbody>\n",
              "</table>\n",
              "</div>"
            ],
            "text/plain": [
              "                                  count          mean  ...       75%          max\n",
              "LOC_BLANK                        9466.0      1.556835  ...    1.0000        87.00\n",
              "BRANCH_COUNT                     9466.0      2.954046  ...    3.0000       351.00\n",
              "CALL_PAIRS                       9466.0      1.287133  ...    1.0000        72.00\n",
              "LOC_CODE_AND_COMMENT             9466.0      0.784281  ...    0.0000        98.00\n",
              "LOC_COMMENTS                     9466.0      1.612719  ...    0.0000       117.00\n",
              "CONDITION_COUNT                  9466.0      3.315233  ...    4.0000       630.00\n",
              "CYCLOMATIC_COMPLEXITY            9466.0      1.924150  ...    2.0000       192.00\n",
              "CYCLOMATIC_DENSITY               9466.0      0.670175  ...    1.0000         1.00\n",
              "DECISION_COUNT                   9466.0      1.571308  ...    2.0000       312.00\n",
              "DESIGN_COMPLEXITY                9466.0      1.588633  ...    1.0000       186.00\n",
              "DESIGN_DENSITY                   9466.0      0.851363  ...    1.0000         1.00\n",
              "EDGE_COUNT                       9466.0      6.759772  ...    6.0000       929.00\n",
              "ESSENTIAL_COMPLEXITY             9466.0      1.238855  ...    1.0000        22.00\n",
              "ESSENTIAL_DENSITY                9466.0      0.012360  ...    0.0000         1.00\n",
              "LOC_EXECUTABLE                   9466.0      6.249630  ...    6.0000       578.00\n",
              "PARAMETER_COUNT                  9466.0      0.133636  ...    0.0000        10.00\n",
              "GLOBAL_DATA_COMPLEXITY           9466.0      0.903761  ...    1.0000       192.00\n",
              "GLOBAL_DATA_DENSITY              9466.0      0.448236  ...    1.0000         1.00\n",
              "HALSTEAD_CONTENT                 9466.0     14.242067  ...   15.3350       253.30\n",
              "HALSTEAD_DIFFICULTY              9466.0      6.269534  ...    6.3925       833.78\n",
              "HALSTEAD_EFFORT                  9466.0  12649.498647  ...  504.9300  31159817.68\n",
              "HALSTEAD_ERROR_EST               9466.0      0.058211  ...    0.0300        12.46\n",
              "HALSTEAD_LENGTH                  9466.0     34.563068  ...   23.0000      5227.00\n",
              "HALSTEAD_LEVEL                   9466.0      0.354511  ...    0.6700         2.00\n",
              "HALSTEAD_PROG_TIME               9466.0    702.750345  ...   28.0500   1731100.99\n",
              "HALSTEAD_VOLUME                  9466.0    175.062793  ...   89.8600     37371.73\n",
              "MAINTENANCE_SEVERITY             9466.0      0.742024  ...    1.0000         1.00\n",
              "MODIFIED_CONDITION_COUNT         9466.0      0.871963  ...    1.0000       159.00\n",
              "MULTIPLE_CONDITION_COUNT         9466.0      1.658462  ...    2.0000       315.00\n",
              "NODE_COUNT                       9466.0      6.708325  ...    6.0000       739.00\n",
              "NORMALIZED_CYLOMATIC_COMPLEXITY  9466.0      0.539018  ...    1.0000         2.00\n",
              "NUM_OPERANDS                     9466.0     13.780266  ...   10.0000      2279.00\n",
              "NUM_OPERATORS                    9466.0     20.782802  ...   14.0000      2948.00\n",
              "NUM_UNIQUE_OPERANDS              9466.0      5.927530  ...    6.0000       197.00\n",
              "NUM_UNIQUE_OPERATORS             9466.0      6.356011  ...    8.0000       100.00\n",
              "NUMBER_OF_LINES                  9466.0     12.223748  ...   11.0000       727.00\n",
              "PERCENT_COMMENTS                 9466.0      7.922276  ...    0.0000        95.76\n",
              "LOC_TOTAL                        9466.0      7.033911  ...    7.0000       639.00\n",
              "\n",
              "[38 rows x 8 columns]"
            ]
          },
          "metadata": {},
          "execution_count": 120
        }
      ]
    },
    {
      "cell_type": "markdown",
      "metadata": {
        "id": "XBFkgSI0Oxl1"
      },
      "source": [
        "## Train Test Split"
      ]
    },
    {
      "cell_type": "code",
      "metadata": {
        "id": "Ln9TzgmApxaL"
      },
      "source": [
        "df['status'] = df['defects'].map({True:1,False:0})"
      ],
      "execution_count": null,
      "outputs": []
    },
    {
      "cell_type": "code",
      "metadata": {
        "id": "5hp0lYb738EG"
      },
      "source": [
        "\n",
        "y=df['status'].values\n",
        "X=df.drop('defects',axis=1).iloc[:,:-15].values"
      ],
      "execution_count": null,
      "outputs": []
    },
    {
      "cell_type": "code",
      "metadata": {
        "colab": {
          "base_uri": "https://localhost:8080/"
        },
        "id": "Uf0U5WCF5zdE",
        "outputId": "43d12cf4-3f8f-484d-f147-c76a4a3b0e0c"
      },
      "source": [
        "y"
      ],
      "execution_count": null,
      "outputs": [
        {
          "output_type": "execute_result",
          "data": {
            "text/plain": [
              "array([0, 1, 1, ..., 0, 0, 0])"
            ]
          },
          "metadata": {},
          "execution_count": 79
        }
      ]
    },
    {
      "cell_type": "code",
      "metadata": {
        "id": "H4CsGmC3Oxl1"
      },
      "source": [
        "\"\"\"\n",
        "df=df.drop('problems',axis=1)\n",
        "#.iloc[:,:-10]\n",
        "X = df.drop('status',axis=1).values\n",
        "y = df['status'].values\n",
        "\"\"\""
      ],
      "execution_count": null,
      "outputs": []
    },
    {
      "cell_type": "code",
      "metadata": {
        "id": "JNEsOwssOxl1"
      },
      "source": [
        "from sklearn.model_selection import train_test_split"
      ],
      "execution_count": null,
      "outputs": []
    },
    {
      "cell_type": "code",
      "metadata": {
        "id": "zJ8olhIlOxl2"
      },
      "source": [
        "X_train, X_test, y_train, y_test = train_test_split(X,y,test_size=0.15,random_state=101)"
      ],
      "execution_count": null,
      "outputs": []
    },
    {
      "cell_type": "code",
      "metadata": {
        "colab": {
          "base_uri": "https://localhost:8080/"
        },
        "id": "wnHo4biLc_k2",
        "outputId": "3e7a7e64-638f-4352-e67c-22f04e1eb516"
      },
      "source": [
        "X_train.shape"
      ],
      "execution_count": null,
      "outputs": [
        {
          "output_type": "execute_result",
          "data": {
            "text/plain": [
              "(9252, 7)"
            ]
          },
          "metadata": {},
          "execution_count": 81
        }
      ]
    },
    {
      "cell_type": "markdown",
      "metadata": {
        "id": "LANZD6b1Oxl2"
      },
      "source": [
        "\n",
        "## Scaling Data"
      ]
    },
    {
      "cell_type": "code",
      "metadata": {
        "id": "1fPNFu2GOxl2"
      },
      "source": [
        "from sklearn.preprocessing import MinMaxScaler"
      ],
      "execution_count": null,
      "outputs": []
    },
    {
      "cell_type": "code",
      "metadata": {
        "id": "z666SDwVOxl2"
      },
      "source": [
        "scaler = MinMaxScaler()"
      ],
      "execution_count": null,
      "outputs": []
    },
    {
      "cell_type": "code",
      "metadata": {
        "colab": {
          "base_uri": "https://localhost:8080/"
        },
        "id": "MENHFLihOxl2",
        "outputId": "6c5a1c5b-4dce-4091-ca4a-cbbf23266d3b"
      },
      "source": [
        "scaler.fit(X_train)"
      ],
      "execution_count": null,
      "outputs": [
        {
          "output_type": "execute_result",
          "data": {
            "text/plain": [
              "MinMaxScaler()"
            ]
          },
          "metadata": {},
          "execution_count": 83
        }
      ]
    },
    {
      "cell_type": "code",
      "metadata": {
        "id": "gz-z78b_Oxl3"
      },
      "source": [
        "X_train = scaler.transform(X_train)\n",
        "X_test = scaler.transform(X_test)"
      ],
      "execution_count": null,
      "outputs": []
    },
    {
      "cell_type": "markdown",
      "metadata": {
        "id": "H2s0FAMqOxl3"
      },
      "source": [
        "## Creating the Model\n",
        "                  \n",
        "    "
      ]
    },
    {
      "cell_type": "code",
      "metadata": {
        "id": "8rxhcW67Oxl3"
      },
      "source": [
        "import tensorflow as tf\n",
        "from tensorflow.keras.models import Sequential\n",
        "from tensorflow.keras.layers import Dense, Activation,Dropout,BatchNormalization\n",
        "from keras.layers.recurrent import LSTM\n",
        "from keras.regularizers import l2"
      ],
      "execution_count": null,
      "outputs": []
    },
    {
      "cell_type": "code",
      "metadata": {
        "id": "-_0ZxFApy2bh"
      },
      "source": [
        "X_train = X_train.reshape(len(X_train), 1, X_train.shape[1])\n",
        "X_test = X_test.reshape(len(X_test), 1, X_test.shape[1])"
      ],
      "execution_count": null,
      "outputs": []
    },
    {
      "cell_type": "code",
      "metadata": {
        "id": "08iFjIuny48F",
        "colab": {
          "base_uri": "https://localhost:8080/"
        },
        "outputId": "026a583d-eab0-45ec-ca12-f9b2f6951912"
      },
      "source": [
        "X_train.shape"
      ],
      "execution_count": null,
      "outputs": [
        {
          "output_type": "execute_result",
          "data": {
            "text/plain": [
              "(8046, 1, 24)"
            ]
          },
          "metadata": {},
          "execution_count": 66
        }
      ]
    },
    {
      "cell_type": "code",
      "metadata": {
        "id": "aiayNV3dOxl4"
      },
      "source": [
        "model = Sequential()\n",
        "\n",
        "model.add(LSTM(128,\n",
        "    return_sequences=True,input_shape=(X_train.shape[1:])))\n",
        "model.add(Dropout(0.2))\n",
        "model.add(LSTM(\n",
        "    64,\n",
        "    return_sequences=False,input_shape=(X_train.shape[1:])))\n",
        "model.add(Dropout(0.2))\n",
        "model.add(BatchNormalization())\n",
        "model.add(Dense(128, activation='relu',kernel_regularizer=l2(0.01), bias_regularizer=l2(0.01)))\n",
        "model.add(Dropout(0.2))\n",
        "model.add(Dense(64, activation='relu'))\n",
        "model.add(Dropout(0.2))\n",
        "model.add(BatchNormalization())\n",
        "model.add(Dense(units=1,activation='sigmoid',input_shape=(X_train.shape[1:])))\n",
        "model.compile(loss='binary_crossentropy', optimizer='adam',metrics=['accuracy'])"
      ],
      "execution_count": null,
      "outputs": []
    },
    {
      "cell_type": "code",
      "metadata": {
        "colab": {
          "base_uri": "https://localhost:8080/"
        },
        "id": "QRevJUvWtwqu",
        "outputId": "8e295d0a-f758-42df-991e-7ee65c06eadb"
      },
      "source": [
        "model.summary()"
      ],
      "execution_count": null,
      "outputs": [
        {
          "output_type": "stream",
          "name": "stdout",
          "text": [
            "Model: \"sequential_5\"\n",
            "_________________________________________________________________\n",
            " Layer (type)                Output Shape              Param #   \n",
            "=================================================================\n",
            " lstm_10 (LSTM)              (None, 1, 128)            78336     \n",
            "                                                                 \n",
            " dropout_20 (Dropout)        (None, 1, 128)            0         \n",
            "                                                                 \n",
            " lstm_11 (LSTM)              (None, 64)                49408     \n",
            "                                                                 \n",
            " dropout_21 (Dropout)        (None, 64)                0         \n",
            "                                                                 \n",
            " batch_normalization_10 (Bat  (None, 64)               256       \n",
            " chNormalization)                                                \n",
            "                                                                 \n",
            " dense_15 (Dense)            (None, 128)               8320      \n",
            "                                                                 \n",
            " dropout_22 (Dropout)        (None, 128)               0         \n",
            "                                                                 \n",
            " dense_16 (Dense)            (None, 64)                8256      \n",
            "                                                                 \n",
            " dropout_23 (Dropout)        (None, 64)                0         \n",
            "                                                                 \n",
            " batch_normalization_11 (Bat  (None, 64)               256       \n",
            " chNormalization)                                                \n",
            "                                                                 \n",
            " dense_17 (Dense)            (None, 1)                 65        \n",
            "                                                                 \n",
            "=================================================================\n",
            "Total params: 144,897\n",
            "Trainable params: 144,641\n",
            "Non-trainable params: 256\n",
            "_________________________________________________________________\n"
          ]
        }
      ]
    },
    {
      "cell_type": "markdown",
      "metadata": {
        "id": "_ZOvLRNROxl4"
      },
      "source": [
        "## Training the Model \n",
        "\n",
        "### Early Stopping "
      ]
    },
    {
      "cell_type": "code",
      "metadata": {
        "id": "VA6-5sal77i1"
      },
      "source": [
        "from tensorflow.keras.callbacks import EarlyStopping\n",
        "early_stop = EarlyStopping(monitor='val_loss',patience=7)"
      ],
      "execution_count": null,
      "outputs": []
    },
    {
      "cell_type": "code",
      "metadata": {
        "colab": {
          "base_uri": "https://localhost:8080/"
        },
        "id": "6QhOmsGnOxl4",
        "outputId": "4dac5fae-b973-4aef-c24d-d11afbc736ee"
      },
      "source": [
        "\n",
        "\n",
        "model.fit(x=X_train, \n",
        "          y=y_train, \n",
        "          epochs=100,\n",
        "          validation_data=(X_test, y_test), verbose=1,\n",
        "          callbacks=[early_stop])"
      ],
      "execution_count": null,
      "outputs": [
        {
          "output_type": "stream",
          "name": "stdout",
          "text": [
            "Epoch 1/100\n",
            "290/290 [==============================] - 9s 12ms/step - loss: 0.7833 - accuracy: 0.7849 - val_loss: 0.5572 - val_accuracy: 0.7961\n",
            "Epoch 2/100\n",
            "290/290 [==============================] - 3s 10ms/step - loss: 0.4796 - accuracy: 0.8084 - val_loss: 0.4957 - val_accuracy: 0.7967\n",
            "Epoch 3/100\n",
            "290/290 [==============================] - 3s 10ms/step - loss: 0.4638 - accuracy: 0.8109 - val_loss: 0.4699 - val_accuracy: 0.7973\n",
            "Epoch 4/100\n",
            "290/290 [==============================] - 3s 10ms/step - loss: 0.4590 - accuracy: 0.8115 - val_loss: 0.4872 - val_accuracy: 0.7985\n",
            "Epoch 5/100\n",
            "290/290 [==============================] - 3s 10ms/step - loss: 0.4572 - accuracy: 0.8101 - val_loss: 0.4626 - val_accuracy: 0.7985\n",
            "Epoch 6/100\n",
            "290/290 [==============================] - 3s 10ms/step - loss: 0.4556 - accuracy: 0.8128 - val_loss: 0.4592 - val_accuracy: 0.8010\n",
            "Epoch 7/100\n",
            "290/290 [==============================] - 3s 10ms/step - loss: 0.4561 - accuracy: 0.8107 - val_loss: 0.4738 - val_accuracy: 0.7967\n",
            "Epoch 8/100\n",
            "290/290 [==============================] - 3s 10ms/step - loss: 0.4545 - accuracy: 0.8104 - val_loss: 0.4604 - val_accuracy: 0.7998\n",
            "Epoch 9/100\n",
            "290/290 [==============================] - 3s 10ms/step - loss: 0.4549 - accuracy: 0.8101 - val_loss: 0.4585 - val_accuracy: 0.7991\n",
            "Epoch 10/100\n",
            "290/290 [==============================] - 3s 10ms/step - loss: 0.4546 - accuracy: 0.8105 - val_loss: 0.4642 - val_accuracy: 0.7991\n",
            "Epoch 11/100\n",
            "290/290 [==============================] - 3s 10ms/step - loss: 0.4525 - accuracy: 0.8111 - val_loss: 0.4620 - val_accuracy: 0.7967\n",
            "Epoch 12/100\n",
            "290/290 [==============================] - 3s 10ms/step - loss: 0.4528 - accuracy: 0.8103 - val_loss: 0.4712 - val_accuracy: 0.8004\n",
            "Epoch 13/100\n",
            "290/290 [==============================] - 3s 10ms/step - loss: 0.4541 - accuracy: 0.8110 - val_loss: 0.4626 - val_accuracy: 0.8022\n",
            "Epoch 14/100\n",
            "290/290 [==============================] - 3s 10ms/step - loss: 0.4536 - accuracy: 0.8132 - val_loss: 0.4615 - val_accuracy: 0.7973\n",
            "Epoch 15/100\n",
            "290/290 [==============================] - 3s 10ms/step - loss: 0.4519 - accuracy: 0.8116 - val_loss: 0.4598 - val_accuracy: 0.7979\n",
            "Epoch 16/100\n",
            "290/290 [==============================] - 3s 10ms/step - loss: 0.4471 - accuracy: 0.8119 - val_loss: 0.4586 - val_accuracy: 0.7985\n"
          ]
        },
        {
          "output_type": "execute_result",
          "data": {
            "text/plain": [
              "<keras.callbacks.History at 0x7f711eb84b90>"
            ]
          },
          "metadata": {},
          "execution_count": 88
        }
      ]
    },
    {
      "cell_type": "code",
      "metadata": {
        "id": "c6E9n92FOxl5"
      },
      "source": [
        "model_loss = pd.DataFrame(model.history.history)"
      ],
      "execution_count": null,
      "outputs": []
    },
    {
      "cell_type": "code",
      "metadata": {
        "colab": {
          "base_uri": "https://localhost:8080/",
          "height": 282
        },
        "id": "eZDGUM1wOxl5",
        "outputId": "98996567-d266-4457-b30d-2f022961b1b7"
      },
      "source": [
        "model_loss.plot()"
      ],
      "execution_count": null,
      "outputs": [
        {
          "output_type": "execute_result",
          "data": {
            "text/plain": [
              "<matplotlib.axes._subplots.AxesSubplot at 0x7f711f5f2a50>"
            ]
          },
          "metadata": {},
          "execution_count": 47
        },
        {
          "output_type": "display_data",
          "data": {
            "image/png": "[encoded data removed]",
            "text/plain": [
              "<Figure size 432x288 with 1 Axes>"
            ]
          },
          "metadata": {
            "needs_background": "light"
          }
        }
      ]
    },
    {
      "cell_type": "markdown",
      "metadata": {
        "id": "BXbGFqpcOxl7"
      },
      "source": [
        "# Model Evaluation"
      ]
    },
    {
      "cell_type": "code",
      "metadata": {
        "id": "YCj1H_6AOxl7"
      },
      "source": [
        "predictions = (model.predict(X_test) > 0.5).astype(\"int32\")"
      ],
      "execution_count": null,
      "outputs": []
    },
    {
      "cell_type": "code",
      "metadata": {
        "colab": {
          "base_uri": "https://localhost:8080/"
        },
        "id": "URjMdS_gm-tE",
        "outputId": "7bfde8af-82f9-47ac-f529-529abfd46ef9"
      },
      "source": [
        "predictions"
      ],
      "execution_count": null,
      "outputs": [
        {
          "output_type": "execute_result",
          "data": {
            "text/plain": [
              "array([[0],\n",
              "       [0],\n",
              "       [0],\n",
              "       ...,\n",
              "       [0],\n",
              "       [0],\n",
              "       [0]], dtype=int32)"
            ]
          },
          "metadata": {},
          "execution_count": 91
        }
      ]
    },
    {
      "cell_type": "code",
      "metadata": {
        "colab": {
          "base_uri": "https://localhost:8080/"
        },
        "id": "fNm_nIB5nJcL",
        "outputId": "0f01de86-91cd-4600-94c2-ef55aa642a80"
      },
      "source": [
        "y_test"
      ],
      "execution_count": null,
      "outputs": [
        {
          "output_type": "execute_result",
          "data": {
            "text/plain": [
              "array([0, 0, 0, ..., 0, 1, 1])"
            ]
          },
          "metadata": {},
          "execution_count": 92
        }
      ]
    },
    {
      "cell_type": "code",
      "metadata": {
        "id": "O-_Uiv-mOxl7"
      },
      "source": [
        "from sklearn.metrics import classification_report,confusion_matrix\n",
        "from sklearn import metrics"
      ],
      "execution_count": null,
      "outputs": []
    },
    {
      "cell_type": "code",
      "metadata": {
        "colab": {
          "base_uri": "https://localhost:8080/"
        },
        "id": "XvDX-YHROxl7",
        "outputId": "51e2a7bf-c508-4c2e-be19-ac68464c890b"
      },
      "source": [
        "print(classification_report(y_test,predictions))"
      ],
      "execution_count": null,
      "outputs": [
        {
          "output_type": "stream",
          "name": "stdout",
          "text": [
            "              precision    recall  f1-score   support\n",
            "\n",
            "           0       0.83      0.95      0.89        61\n",
            "           1       0.67      0.33      0.44        18\n",
            "\n",
            "    accuracy                           0.81        79\n",
            "   macro avg       0.75      0.64      0.66        79\n",
            "weighted avg       0.79      0.81      0.79        79\n",
            "\n"
          ]
        }
      ]
    },
    {
      "cell_type": "code",
      "metadata": {
        "colab": {
          "base_uri": "https://localhost:8080/"
        },
        "id": "XsCr8HPrOxl8",
        "outputId": "68d6f529-08e7-4f44-89e3-8404506c00e8"
      },
      "source": [
        "print('ACCURACY:',metrics.accuracy_score(y_test,predictions))"
      ],
      "execution_count": null,
      "outputs": [
        {
          "output_type": "stream",
          "name": "stdout",
          "text": [
            "ACCURACY: 0.9908450704225352\n"
          ]
        }
      ]
    },
    {
      "cell_type": "code",
      "metadata": {
        "id": "Bp436SL1WIzi",
        "colab": {
          "base_uri": "https://localhost:8080/"
        },
        "outputId": "604b67ab-5150-447c-badf-d0f82201454b"
      },
      "source": [
        "print('PRECISION:', metrics.precision_score(y_test,predictions))"
      ],
      "execution_count": null,
      "outputs": [
        {
          "output_type": "stream",
          "name": "stdout",
          "text": [
            "PRECISION: 1.0\n"
          ]
        }
      ]
    },
    {
      "cell_type": "code",
      "metadata": {
        "id": "Gs_yqBSiWodo",
        "colab": {
          "base_uri": "https://localhost:8080/"
        },
        "outputId": "864b0853-612d-4263-8339-2af8fcd22ea0"
      },
      "source": [
        "print('RECALL:', metrics.recall_score(y_test,predictions))"
      ],
      "execution_count": null,
      "outputs": [
        {
          "output_type": "stream",
          "name": "stdout",
          "text": [
            "RECALL: 0.07142857142857142\n"
          ]
        }
      ]
    },
    {
      "cell_type": "code",
      "metadata": {
        "id": "21Ry9lLgW3eQ",
        "colab": {
          "base_uri": "https://localhost:8080/"
        },
        "outputId": "59d7a8ad-6da1-4907-ad0a-0a3d3658de99"
      },
      "source": [
        "print('F1-SCORE:', metrics.f1_score(y_test,predictions))"
      ],
      "execution_count": null,
      "outputs": [
        {
          "output_type": "stream",
          "name": "stdout",
          "text": [
            "F1-SCORE: 0.13333333333333333\n"
          ]
        }
      ]
    },
    {
      "cell_type": "code",
      "metadata": {
        "colab": {
          "base_uri": "https://localhost:8080/"
        },
        "id": "jhTnR73Z2Ri8",
        "outputId": "eca801f7-66d0-4f97-c0a1-7f076cd5af80"
      },
      "source": [
        "print('AUC ROC SCORE:',metrics.roc_auc_score(y_test,predictions))"
      ],
      "execution_count": null,
      "outputs": [
        {
          "output_type": "stream",
          "name": "stdout",
          "text": [
            "AUC ROC SCORE: 0.5357142857142857\n"
          ]
        }
      ]
    },
    {
      "cell_type": "code",
      "metadata": {
        "colab": {
          "base_uri": "https://localhost:8080/"
        },
        "id": "e7-sHk2r2lNq",
        "outputId": "d8549a56-6143-4d16-db59-104a540f38b6"
      },
      "source": [
        "print('MAE VALUE:',(metrics.mean_absolute_error(y_test,predictions)))"
      ],
      "execution_count": null,
      "outputs": [
        {
          "output_type": "stream",
          "name": "stdout",
          "text": [
            "MSE VALUE: 0.20146968769136558\n"
          ]
        }
      ]
    },
    {
      "cell_type": "code",
      "metadata": {
        "colab": {
          "base_uri": "https://localhost:8080/"
        },
        "id": "rZJIgNL8LCw0",
        "outputId": "89e27d9d-263f-4262-835f-d16a5969d2c5"
      },
      "source": [
        "print('RMSE VALUE:',(metrics.mean_squared_error(y_test,predictions)))"
      ],
      "execution_count": null,
      "outputs": [
        {
          "output_type": "stream",
          "name": "stdout",
          "text": [
            "RMSE VALUE: 0.20146968769136558\n"
          ]
        }
      ]
    }
  ]
}